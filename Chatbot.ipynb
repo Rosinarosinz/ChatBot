{
 "cells": [
  {
   "cell_type": "code",
   "execution_count": 2,
   "metadata": {},
   "outputs": [
    {
     "name": "stdout",
     "output_type": "stream",
     "text": [
      "Welcome to the Basic Math Operations Bot!\n",
      "Enter first operand: 4\n",
      "Enter second operand: 5\n",
      "Enter the operation you want to perform (+, -, *, /): +\n",
      "The sum is: 9.0\n",
      "Do you want to perform more operations? (yes/no): yes\n",
      "Enter first operand: 5\n",
      "Enter second operand: 7\n",
      "Enter the operation you want to perform (+, -, *, /): _\n",
      "Invalid operation selected. Please try again.\n",
      "Enter first operand: 5\n",
      "Enter second operand: 7\n",
      "Enter the operation you want to perform (+, -, *, /): -\n",
      "The difference is: -2.0\n",
      "Do you want to perform more operations? (yes/no): no\n",
      "Thank you for using the Basic Math Operations Bot!\n"
     ]
    }
   ],
   "source": [
    "print(\"Welcome to the Basic Math Operations Bot!\")\n",
    "\n",
    "def calculate():\n",
    "    try:\n",
    "        num1 = float(input(\"Enter first operand: \"))\n",
    "        num2 = float(input(\"Enter second operand: \"))\n",
    "        operation = input(\"Enter the operation you want to perform (+, -, *, /): \")\n",
    "        \n",
    "        if operation == \"+\":\n",
    "            result = num1 + num2\n",
    "            print(\"The sum is:\", result)\n",
    "        elif operation == \"-\":\n",
    "            result = num1 - num2\n",
    "            print(\"The difference is:\", result)\n",
    "        elif operation == \"*\":\n",
    "            result = num1 * num2\n",
    "            print(\"The product is:\", result)\n",
    "        elif operation == \"/\":\n",
    "            result = num1 / num2\n",
    "            print(\"The quotient is:\", result)\n",
    "        else:\n",
    "            print(\"Invalid operation selected. Please try again.\")\n",
    "            calculate()\n",
    "    except ValueError:\n",
    "        print(\"Invalid input. Please enter a valid number.\")\n",
    "        calculate()\n",
    "\n",
    "calculate()\n",
    "\n",
    "while True:\n",
    "    more_operations = input(\"Do you want to perform more operations? (yes/no): \")\n",
    "    if more_operations.lower() == \"yes\":\n",
    "        calculate()\n",
    "    else:\n",
    "        print(\"Thank you for using the Basic Math Operations Bot!\")\n",
    "        break\n"
   ]
  },
  {
   "cell_type": "code",
   "execution_count": null,
   "metadata": {},
   "outputs": [],
   "source": []
  }
 ],
 "metadata": {
  "kernelspec": {
   "display_name": "Python 3",
   "language": "python",
   "name": "python3"
  },
  "language_info": {
   "codemirror_mode": {
    "name": "ipython",
    "version": 3
   },
   "file_extension": ".py",
   "mimetype": "text/x-python",
   "name": "python",
   "nbconvert_exporter": "python",
   "pygments_lexer": "ipython3",
   "version": "3.8.5"
  }
 },
 "nbformat": 4,
 "nbformat_minor": 4
}
